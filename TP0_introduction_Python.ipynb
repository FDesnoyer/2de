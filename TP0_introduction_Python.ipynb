{
 "cells": [
  {
   "cell_type": "markdown",
   "id": "d02afa17",
   "metadata": {},
   "source": [
    "# Mes premiers pas en Python\n",
    "\n",
    "Python est un langage de programmation, c'est-à-dire une façon pour l'humain de communiquer avec les machines en leur demandant de réaliser des tâches précises. Avec Python, votre service de VOD préféré analyse vos goûts ou des sondes se posent sur Mars..."
   ]
  },
  {
   "cell_type": "markdown",
   "id": "d181de8c",
   "metadata": {},
   "source": [
    "Un programme est une suite d'instructions destinées à faire réaliser une tâche précise à la machine, le langage utilisé répond à certains critères pour former des phrases correctes: c'est la syntaxe."
   ]
  },
  {
   "cell_type": "markdown",
   "id": "64f0d43c",
   "metadata": {},
   "source": [
    "Ici, nous utilisons un Notebook Jupyter, cela vous permet d'écrire vos morceaux de programmes dans les cases commençant pas \"Entrée [ ]\" et de les tester en appuyant sur Shift+Entrée.\n",
    "Vous pouvez vous exercer sur la cellule suivante. Remarquez comme un nombre apparaît dans les crochets à chaque fois que vous appuyez sur Shift + Entrée (on dira que vous avez \"compilé\" la cellule)."
   ]
  },
  {
   "cell_type": "code",
   "execution_count": null,
   "id": "9f4311b4",
   "metadata": {},
   "outputs": [],
   "source": [
    "a=3\n",
    "print('a =',a)"
   ]
  },
  {
   "cell_type": "markdown",
   "id": "175bd788",
   "metadata": {},
   "source": [
    "### Premier exercice\n",
    "\n",
    "Pour enregistrer une valeur, on utilise une \"variable\" (a=3 dans notre premier programme) et on lui \"affecte\" une valeur. On peut manipuler les \"variables\" avec des formules (comme en maths).\n",
    "\n",
    "#### A vous de jouer:\n",
    "\n",
    "Vous devez créer une variable a et la transformer en une variable b qui contienne 3a+5. Pour vérifier votre programme, vous pourrez l'essayer avec a=1 et a=2."
   ]
  },
  {
   "cell_type": "code",
   "execution_count": null,
   "id": "31522d42",
   "metadata": {},
   "outputs": [],
   "source": []
  },
  {
   "cell_type": "markdown",
   "id": "f746567f",
   "metadata": {},
   "source": [
    "Vous aurez remarqué que ça n'est pas pratique du tout. Il faudrait trouver le moyen de programmer une **fonction** comme en maths.\n",
    "\n",
    "Pour ça, on une instruction particulière \"def\" pour **définir une fonction**. Voyez l'exemple:"
   ]
  },
  {
   "cell_type": "code",
   "execution_count": null,
   "id": "dd2600c7",
   "metadata": {},
   "outputs": [],
   "source": [
    "def f(a):\n",
    "    return 3*a+5"
   ]
  },
  {
   "cell_type": "code",
   "execution_count": null,
   "id": "bcd020ac",
   "metadata": {},
   "outputs": [],
   "source": []
  },
  {
   "cell_type": "markdown",
   "id": "4ceca9d1",
   "metadata": {},
   "source": [
    "### Deuxième exercice\n",
    "\n",
    "Proposer une fonction qui prend un nombre *a* et le transforme en $3a^2-6a+1$."
   ]
  },
  {
   "cell_type": "code",
   "execution_count": null,
   "id": "cf995546",
   "metadata": {},
   "outputs": [],
   "source": []
  }
 ],
 "metadata": {
  "kernelspec": {
   "display_name": "Python 3",
   "language": "python",
   "name": "python3"
  },
  "language_info": {
   "codemirror_mode": {
    "name": "ipython",
    "version": 3
   },
   "file_extension": ".py",
   "mimetype": "text/x-python",
   "name": "python",
   "nbconvert_exporter": "python",
   "pygments_lexer": "ipython3",
   "version": "3.8.8"
  }
 },
 "nbformat": 4,
 "nbformat_minor": 5
}
